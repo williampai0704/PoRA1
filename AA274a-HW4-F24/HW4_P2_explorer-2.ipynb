{
  "cells": [
    {
      "cell_type": "markdown",
      "source": [
        "# Frontier Exploration"
      ],
      "metadata": {
        "id": "Kn5ASGz0HY26"
      }
    },
    {
      "cell_type": "code",
      "execution_count": 1,
      "metadata": {
        "id": "jot5oxlOF0V5"
      },
      "outputs": [],
      "source": [
        "import numpy as np\n",
        "import typing as T\n",
        "import matplotlib.pyplot as plt\n",
        "from scipy.signal import convolve2d"
      ]
    },
    {
      "cell_type": "markdown",
      "source": [
        "## Define the Stochastic Occupancy Grid Class"
      ],
      "metadata": {
        "id": "y-Bp-oz0Hh7L"
      }
    },
    {
      "cell_type": "code",
      "execution_count": 2,
      "metadata": {
        "id": "fAAV9d5dF0V6"
      },
      "outputs": [],
      "source": [
        "def snap_to_grid(state: np.ndarray, resolution: float) -> np.ndarray:\n",
        "    \"\"\" Snap continuous coordinates to a finite-resolution grid\n",
        "\n",
        "    Args:\n",
        "        state (np.ndarray): a size-2 numpy array specifying the (x, y) coordinates\n",
        "        resolution (float): resolution of the grid\n",
        "\n",
        "    Returns:\n",
        "        np.ndarray: state-vector snapped onto the specified grid\n",
        "    \"\"\"\n",
        "    return resolution * np.round(state / resolution)\n",
        "\n",
        "class StochOccupancyGrid2D(object):\n",
        "    \"\"\" A stochastic occupancy grid derived from ROS2 map data\n",
        "\n",
        "    The probability of grid cell being occupied is computed by the joint probability of\n",
        "    any neighboring cell being occupied within some fixed window. For some examples of size-3\n",
        "    occupancy windows,\n",
        "\n",
        "    0.1 0.1 0.1\n",
        "    0.1 0.1 0.1  ->  1 - (1 - 0.1)**9 ~= 0.61\n",
        "    0.1 0.1 0.1\n",
        "\n",
        "    0.0 0.1 0.0\n",
        "    0.0 0.1 0.0  ->  1 - (1 - 0)**6 * (1 - 0.1)**3 ~= 0.27\n",
        "    0.0 0.1 0.0\n",
        "\n",
        "    The final occupancy probability is then converted to binary occupancy using a threshold\n",
        "    \"\"\"\n",
        "\n",
        "    def __init__(self,\n",
        "        resolution: float,\n",
        "        size_xy: np.ndarray,\n",
        "        origin_xy: np.ndarray,\n",
        "        window_size: int,\n",
        "        probs: T.Sequence[float],\n",
        "        thresh: float = 0.5\n",
        "    ) -> None:\n",
        "        \"\"\"\n",
        "        Args:\n",
        "            resolution (float): resolution of the map\n",
        "            size_xy (np.ndarray): size-2 integer array representing map size\n",
        "            origin_xy (np.ndarray): size-2 float array representing map origin coordinates\n",
        "            window_size (int): window size for computing occupancy probabilities\n",
        "            probs (T.Sequence[float]): map data\n",
        "            thresh (float): threshold for final binarization of occupancy probabilites\n",
        "        \"\"\"\n",
        "        self.resolution = resolution\n",
        "        self.size_xy = size_xy\n",
        "        self.origin_xy = origin_xy\n",
        "        self.probs = np.reshape(np.asarray(probs), (size_xy[1], size_xy[0]))\n",
        "        self.window_size = window_size\n",
        "        self.thresh = thresh\n",
        "\n",
        "    def state2grid(self, state_xy: np.ndarray) -> np.ndarray:\n",
        "        \"\"\" convert real state coordinates to integer grid indices\n",
        "\n",
        "        Args:\n",
        "            state_xy (np.ndarray): real state coordinates (x, y)\n",
        "\n",
        "        Returns:\n",
        "            np.ndarray: quantized 2D grid indices (kx, ky)\n",
        "        \"\"\"\n",
        "        state_snapped_xy = snap_to_grid(state_xy, self.resolution)\n",
        "        grid_xy = ((state_snapped_xy - self.origin_xy) / self.resolution).astype(int)\n",
        "\n",
        "        return grid_xy\n",
        "\n",
        "    def grid2state(self, grid_xy: np.ndarray) -> np.ndarray:\n",
        "        \"\"\" convert integer grid indices to real state coordinates\n",
        "\n",
        "        Args:\n",
        "            grid_xy (np.ndarray): integer grid indices (kx, ky)\n",
        "\n",
        "        Returns:\n",
        "            np.ndarray: real state coordinates (x, y)\n",
        "        \"\"\"\n",
        "        return (grid_xy * self.resolution + self.origin_xy).astype(float)\n",
        "\n",
        "    def is_free(self, state_xy: np.ndarray) -> bool:\n",
        "        \"\"\" Check whether a state is free or occupied\n",
        "\n",
        "        Args:\n",
        "            state_xy (np.ndarray): size-2 state vectory of (x, y) coordinate\n",
        "\n",
        "        Returns:\n",
        "            bool: True if free, False if occupied\n",
        "        \"\"\"\n",
        "        # combine the probabilities of each cell by assuming independence of each estimation\n",
        "        grid_xy = self.state2grid(state_xy)\n",
        "\n",
        "        half_size = int(round((self.window_size-1)/2))\n",
        "        grid_xy_lower = np.maximum(0, grid_xy - half_size)\n",
        "        grid_xy_upper = np.minimum(self.size_xy, grid_xy + half_size + 1)\n",
        "\n",
        "        prob_window = self.probs[grid_xy_lower[1]:grid_xy_upper[1],\n",
        "                                 grid_xy_lower[0]:grid_xy_upper[0]]\n",
        "        p_total = np.prod(1. - np.maximum(prob_window / 100., 0.))\n",
        "\n",
        "        return (1. - p_total) < self.thresh"
      ]
    },
    {
      "cell_type": "markdown",
      "source": [
        "## Define the Ground Truth Map with Obstascles"
      ],
      "metadata": {
        "id": "ab8SHQCAHnEa"
      }
    },
    {
      "cell_type": "code",
      "execution_count": 3,
      "metadata": {
        "id": "dvsosKWIF0V8",
        "outputId": "db9226e9-cab8-4155-c437-7cf5a20df71f",
        "colab": {
          "base_uri": "https://localhost:8080/",
          "height": 435
        }
      },
      "outputs": [
        {
          "output_type": "display_data",
          "data": {
            "text/plain": [
              "<Figure size 640x480 with 1 Axes>"
            ],
            "image/png": "[encoded data removed]"
          },
          "metadata": {}
        }
      ],
      "source": [
        "current_state = np.array([6., 5.])\n",
        "map_grid_size = np.array([100, 100])\n",
        "resolution = 0.1\n",
        "\n",
        "# Initialize ground truth occupancy grid\n",
        "occupancy_gt = -np.ones((map_grid_size[1], map_grid_size[0]))\n",
        "obstacles = [np.array([3, 5, 2, 4]), np.array([8, 7, 3, 1])] # x_center, y_center, width, height\n",
        "obstacles_idxs =  [obstacle/resolution for obstacle in obstacles]\n",
        "for obstacles_idx in obstacles_idxs:\n",
        "    occupancy_gt[int(obstacles_idx[1]-obstacles_idx[3]/2.) : int(obstacles_idx[1]+obstacles_idx[3]/2.), int(obstacles_idx[0]-obstacles_idx[2]/2.) : int(obstacles_idx[0]+obstacles_idx[2]/2.)] = 1.0\n",
        "\n",
        "# Plotting Functions\n",
        "fig,ax = plt.subplots(1)\n",
        "ax.imshow(occupancy_gt, origin='lower')\n",
        "ax.plot(current_state[0]/resolution, current_state[1]/resolution, 'r*')\n",
        "ax.set_ylabel('y')\n",
        "ax.set_xlabel('x')\n",
        "ax.set_yticklabels([])\n",
        "ax.set_xticklabels([])\n",
        "plt.show()"
      ]
    },
    {
      "cell_type": "markdown",
      "source": [
        "## Define the Stochastic Occupancy grid of obstacles detected by the robot"
      ],
      "metadata": {
        "id": "ybozkFR9Hsqq"
      }
    },
    {
      "cell_type": "code",
      "execution_count": 4,
      "metadata": {
        "id": "DJ0QZVOfF0V9"
      },
      "outputs": [],
      "source": [
        "# Initialize probabilistic occupancy grid\n",
        "sensing_radius = 3.0\n",
        "observed_bounds = [(current_state - sensing_radius)/resolution, (current_state + sensing_radius)/resolution]\n",
        "occupancy_probs = -np.ones((map_grid_size[1], map_grid_size[0]))\n",
        "\n",
        "for x_idx in range(int(observed_bounds[0][0]), int(observed_bounds[1][0]), 1):\n",
        "    for y_idx in range(int(observed_bounds[0][1]), int(observed_bounds[1][1]), 1):\n",
        "        if np.linalg.norm(np.array([x_idx*resolution, y_idx*resolution]) - current_state) < sensing_radius:\n",
        "            if occupancy_gt[y_idx, x_idx] < 0.0:\n",
        "                occupancy_probs[y_idx, x_idx] = 0.0\n",
        "            else:\n",
        "                occupancy_probs[y_idx, x_idx] = 0.8"
      ]
    },
    {
      "cell_type": "code",
      "execution_count": 5,
      "metadata": {
        "id": "m5Fs3qa5F0V9"
      },
      "outputs": [],
      "source": [
        "# Create Stochastic Occupancy grid\n",
        "occupancy = StochOccupancyGrid2D(resolution=resolution,\n",
        "        size_xy=map_grid_size,\n",
        "        origin_xy=np.zeros((2,)),\n",
        "        window_size=7,\n",
        "        probs=occupancy_probs,\n",
        "        thresh=0.5)"
      ]
    },
    {
      "cell_type": "code",
      "execution_count": 6,
      "metadata": {
        "id": "GTuMOmtvF0V-",
        "outputId": "bb960890-d0ef-4f40-fab3-e7193a9bc1b1",
        "colab": {
          "base_uri": "https://localhost:8080/",
          "height": 435
        }
      },
      "outputs": [
        {
          "output_type": "display_data",
          "data": {
            "text/plain": [
              "<Figure size 640x480 with 1 Axes>"
            ],
            "image/png": "[encoded data removed]"
          },
          "metadata": {}
        }
      ],
      "source": [
        "# Plot Stochastic Occupancy grid\n",
        "fig,ax = plt.subplots(1)\n",
        "ax.imshow(occupancy.probs, origin='lower')\n",
        "ax.plot(current_state[0]/resolution, current_state[1]/resolution, 'r*')\n",
        "ax.set_ylabel('y')\n",
        "ax.set_xlabel('x')\n",
        "ax.set_yticklabels([])\n",
        "ax.set_xticklabels([])\n",
        "plt.show()"
      ]
    },
    {
      "cell_type": "markdown",
      "source": [
        "## Frontier Exploration within robot's Stochastic Occupancy map"
      ],
      "metadata": {
        "id": "hiZf4YCIHzsH"
      }
    },
    {
      "cell_type": "code",
      "execution_count": 7,
      "metadata": {
        "id": "aKQHmRs7F0V-",
        "outputId": "3aae9f5c-c2a9-4f06-d6d7-7fcc6bb72ea3",
        "colab": {
          "base_uri": "https://localhost:8080/",
          "height": 435
        }
      },
      "outputs": [
        {
          "output_type": "display_data",
          "data": {
            "text/plain": [
              "<Figure size 640x480 with 1 Axes>"
            ],
            "image/png": "[encoded data removed]"
          },
          "metadata": {}
        }
      ],
      "source": [
        "def explore(occupancy):\n",
        "    \"\"\" returns potential states to explore\n",
        "    Args:\n",
        "        occupancy (StochasticOccupancyGrid2D): Represents the known, unknown, occupied, and unoccupied states. See class in first section of notebook.\n",
        "\n",
        "    Returns:\n",
        "        frontier_states (np.ndarray): state-vectors in (x, y) coordinates of potential states to explore. Shape is (N, 2), where N is the number of possible states to explore.\n",
        "\n",
        "    HINTS:\n",
        "    - Function `convolve2d` may be helpful in producing the number of unknown, and number of occupied states in a window of a specified cell\n",
        "    - Note the distinction between physical states and grid cells. Most operations can be done on grid cells, and converted to physical states at the end of the function with `occupancy.grid2state()`\n",
        "    \"\"\"\n",
        "\n",
        "    window_size = 13    # defines the window side-length for neighborhood of cells to consider for heuristics\n",
        "    ########################### Code starts here ###########################\n",
        "    probs = occupancy.probs\n",
        "    # Create a window for convolution (all ones)\n",
        "    window = np.ones((window_size, window_size))\n",
        "    total_cells_in_window = window_size * window_size - 1  # Excluding center cell\n",
        "     # Create masks for different cell types\n",
        "    unknown_mask = (probs == -1).astype(float)\n",
        "    occupied_mask = (probs >= 0.5).astype(float) * (probs != -1).astype(float)\n",
        "    unoccupied_mask = (probs < 0.5).astype(float) * (probs != -1).astype(float)\n",
        "\n",
        "    # Count neighboring cells of each type using convolution\n",
        "    unknown_count = convolve2d(unknown_mask, window, mode='same') - unknown_mask\n",
        "    occupied_count = convolve2d(occupied_mask, window, mode='same') - occupied_mask\n",
        "    unoccupied_count = convolve2d(unoccupied_mask, window, mode='same') - unoccupied_mask\n",
        "\n",
        "    # Calculate percentages\n",
        "    unknown_percentage = unknown_count / total_cells_in_window\n",
        "    unoccupied_percentage = unoccupied_count / total_cells_in_window\n",
        "\n",
        "    # Apply heuristics\n",
        "    condition1 = unknown_percentage >= 0.2\n",
        "    condition2 = occupied_count == 0\n",
        "    condition3 = unoccupied_percentage >= 0.3\n",
        "\n",
        "    # Find cells that satisfy all conditions and are unknown\n",
        "    frontier_mask = condition1 & condition2 & condition3 & (probs == -1)\n",
        "\n",
        "    # Get grid coordinates of frontier cells\n",
        "    frontier_grid = np.array(np.where(frontier_mask)).T\n",
        "\n",
        "    # Convert grid coordinates to state coordinates\n",
        "    frontier_states = occupancy.grid2state(frontier_grid)\n",
        "\n",
        "    ########################### Code ends here ###########################\n",
        "    return frontier_states\n",
        "\n",
        "# Call to explore function\n",
        "state_xy = explore(occupancy)\n",
        "grid_xy = occupancy.state2grid(state_xy)\n",
        "\n",
        "# Plot Stochastic Occupancy grid with frontier to explore\n",
        "fig,ax = plt.subplots(1)\n",
        "ax.imshow(occupancy.probs, origin='lower')\n",
        "ax.plot(current_state[0]/resolution, current_state[1]/resolution, 'r*')\n",
        "ax.plot(grid_xy[:,0], grid_xy[:,1], 'b+')\n",
        "ax.set_ylabel('y')\n",
        "ax.set_xlabel('x')\n",
        "ax.set_yticklabels([])\n",
        "ax.set_xticklabels([])\n",
        "plt.show()"
      ]
    },
    {
      "cell_type": "code",
      "source": [
        "# print(state_xy)\n",
        "distances = np.linalg.norm(state_xy - current_state, axis=1)\n",
        "min_distance = np.min(distances)\n",
        "min_distance"
      ],
      "metadata": {
        "colab": {
          "base_uri": "https://localhost:8080/"
        },
        "id": "aSWSqociBbKh",
        "outputId": "cdf37bde-a0c0-4ae0-d4c9-c01377d032c6"
      },
      "execution_count": 8,
      "outputs": [
        {
          "output_type": "execute_result",
          "data": {
            "text/plain": [
              "1.6763054614240216"
            ]
          },
          "metadata": {},
          "execution_count": 8
        }
      ]
    }
  ],
  "metadata": {
    "kernelspec": {
      "display_name": "Python 3.9.10 64-bit",
      "language": "python",
      "name": "python3"
    },
    "language_info": {
      "codemirror_mode": {
        "name": "ipython",
        "version": 3
      },
      "file_extension": ".py",
      "mimetype": "text/x-python",
      "name": "python",
      "nbconvert_exporter": "python",
      "pygments_lexer": "ipython3",
      "version": "3.9.10"
    },
    "orig_nbformat": 4,
    "vscode": {
      "interpreter": {
        "hash": "aee8b7b246df8f9039afb4144a1f6fd8d2ca17a180786b69acc140d282b71a49"
      }
    },
    "colab": {
      "provenance": []
    }
  },
  "nbformat": 4,
  "nbformat_minor": 0
}